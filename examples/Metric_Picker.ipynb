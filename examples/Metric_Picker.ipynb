{
 "nbformat": 4,
 "nbformat_minor": 0,
 "metadata": {
  "colab": {
   "provenance": []
  },
  "kernelspec": {
   "name": "python3",
   "display_name": "Python 3"
  },
  "language_info": {
   "name": "python"
  }
 },
 "cells": [
  {
   "cell_type": "code",
   "execution_count": 4,
   "metadata": {
    "colab": {
     "base_uri": "https://localhost:8080/"
    },
    "id": "kaM-OK3-4_uR",
    "outputId": "cf77c78e-784b-456b-ce95-40f355bfc16a"
   },
   "outputs": [
    {
     "output_type": "stream",
     "name": "stdout",
     "text": [
      "Looking in indexes: https://pypi.org/simple, https://us-python.pkg.dev/colab-wheels/public/simple/\n",
      "Collecting bhv==0.3.0\n",
      "  Downloading bhv-0.3.0-py3-none-any.whl (34 kB)\n",
      "Installing collected packages: bhv\n",
      "Successfully installed bhv-0.3.0\n"
     ]
    }
   ],
   "source": [
    "!pip install bhv==0.3.1"
   ]
  },
  {
   "cell_type": "code",
   "source": [
    "from bhv.vanilla import VanillaBHV as BHV, DIMENSION"
   ],
   "metadata": {
    "id": "1CDopIej5EN_"
   },
   "execution_count": 5,
   "outputs": []
  },
  {
   "cell_type": "markdown",
   "source": [
    "Given some random vectors\n"
   ],
   "metadata": {
    "id": "PX1J7Avw5G3t"
   }
  },
  {
   "cell_type": "code",
   "source": [
    "a, b, c = BHV.nrand(3)"
   ],
   "metadata": {
    "id": "MHDypW4T5GOu"
   },
   "execution_count": 6,
   "outputs": []
  },
  {
   "cell_type": "markdown",
   "source": [
    "`active` counts the number of on-bits.\n",
    "For `rand` vectors (sampled with `Bernoulli(0.5)`) we expect this to be around `DIMENSION/2`."
   ],
   "metadata": {
    "id": "CovN3VFh5NSv"
   }
  },
  {
   "cell_type": "code",
   "source": [
    "print(a.active())\n",
    "print(DIMENSION//2)"
   ],
   "metadata": {
    "colab": {
     "base_uri": "https://localhost:8080/"
    },
    "id": "8UpqqHtA5M-3",
    "outputId": "23b43f2d-37c4-471b-b5c7-965086d0bb21"
   },
   "execution_count": 7,
   "outputs": [
    {
     "output_type": "stream",
     "name": "stdout",
     "text": [
      "4102\n",
      "4096\n"
     ]
    }
   ]
  },
  {
   "cell_type": "markdown",
   "source": [
    "Getting the shared bits (that are on in both vectors) by counting the active bits in their conjunction.\n",
    "For rand vectors we expect this to be around `DIMENSION/4`."
   ],
   "metadata": {
    "id": "MbYza8ac5mUt"
   }
  },
  {
   "cell_type": "code",
   "source": [
    "ab = a & b\n",
    "print(ab.active())\n",
    "print(DIMENSION//4)"
   ],
   "metadata": {
    "colab": {
     "base_uri": "https://localhost:8080/"
    },
    "id": "7sz99WE55roe",
    "outputId": "767519e3-c158-42ba-b435-dea8a868bf1e"
   },
   "execution_count": 8,
   "outputs": [
    {
     "output_type": "stream",
     "name": "stdout",
     "text": [
      "2104\n",
      "2048\n"
     ]
    }
   ]
  },
  {
   "cell_type": "markdown",
   "source": [
    "Using XOR, the exclusive disjunction which is 1 if its inputs differ, we can count the differences between two vectors.\n",
    "This is also called the hamming distance."
   ],
   "metadata": {
    "id": "ovj3ESVL5wY9"
   }
  },
  {
   "cell_type": "code",
   "source": [
    "diff = ab ^ c\n",
    "print(diff.active())\n",
    "print(ab.hamming(c))"
   ],
   "metadata": {
    "colab": {
     "base_uri": "https://localhost:8080/"
    },
    "id": "lC1GW98c5v-v",
    "outputId": "bbfac6d4-ebb4-4537-ec01-6063dad6e9b2"
   },
   "execution_count": 10,
   "outputs": [
    {
     "output_type": "stream",
     "name": "stdout",
     "text": [
      "3969\n",
      "3969\n"
     ]
    }
   ]
  },
  {
   "cell_type": "markdown",
   "source": [
    "To avoid needing to do the calculations in our head of how close this is `DIMENSION/2` we can use `bit_error_rate`, which is the normalized hamming distance."
   ],
   "metadata": {
    "id": "MdP6cV9p6kYF"
   }
  },
  {
   "cell_type": "code",
   "source": [
    "print(ab.bit_error_rate(c))\n",
    "print(ab.hamming(c)/DIMENSION)\n",
    "print((ab ^ c).active_fraction())  # active fraction is x.active()/DIMENSION"
   ],
   "metadata": {
    "colab": {
     "base_uri": "https://localhost:8080/"
    },
    "id": "E7Y3vDBr6kB0",
    "outputId": "1ff4c44b-4dd0-451e-cdbf-0a795d034962"
   },
   "execution_count": 15,
   "outputs": [
    {
     "output_type": "stream",
     "name": "stdout",
     "text": [
      "0.4844970703125\n",
      "0.4844970703125\n",
      "0.4844970703125\n"
     ]
    }
   ]
  },
  {
   "cell_type": "markdown",
   "source": [
    "While very useful for `rand`-like vectors, this measure can be misleading when the two vectors have different fractions of on bits. The cosine distance can factor in the on rates of its arguments."
   ],
   "metadata": {
    "id": "IvUVbHxB7K5U"
   }
  },
  {
   "cell_type": "code",
   "source": [
    "print(ab.cosine(c, distance=True))\n",
    "print(1 - (ab & c).active()/(ab.active()*c.active())**.5)"
   ],
   "metadata": {
    "colab": {
     "base_uri": "https://localhost:8080/"
    },
    "id": "ZRHf4ua77IEf",
    "outputId": "82d2c360-4fcd-42a1-d333-0d06c07fabc7"
   },
   "execution_count": 14,
   "outputs": [
    {
     "output_type": "stream",
     "name": "stdout",
     "text": [
      "0.6367207566879403\n",
      "0.6367207566879403\n"
     ]
    }
   ]
  },
  {
   "cell_type": "markdown",
   "source": [
    "The Jaccard distance is a slightly different way to accomplish this, and takes into account overlapping active bits."
   ],
   "metadata": {
    "id": "hGGz82pb9Day"
   }
  },
  {
   "cell_type": "code",
   "source": [
    "print(ab.jaccard(c, distance=True))\n",
    "print(1 - (ab & c).active()/(ab | c).active())"
   ],
   "metadata": {
    "colab": {
     "base_uri": "https://localhost:8080/"
    },
    "id": "nLYkVMKI8uYT",
    "outputId": "9729d0c7-9db0-478d-8e6d-6a84d6b76dea"
   },
   "execution_count": 16,
   "outputs": [
    {
     "output_type": "stream",
     "name": "stdout",
     "text": [
      "0.7909525707453169\n",
      "0.7909525707453169\n"
     ]
    }
   ]
  },
  {
   "cell_type": "markdown",
   "source": [
    "Note that for both metrics their opposites, \"similarity\" instead of \"distance\", are more commonly used."
   ],
   "metadata": {
    "id": "JhIJOQjC_qjZ"
   }
  },
  {
   "cell_type": "code",
   "source": [
    "print(ab.cosine(c))  # also called Otsuka–Ochiai coefficient\n",
    "print(ab.jaccard(c))  # also called Jaccard Index"
   ],
   "metadata": {
    "colab": {
     "base_uri": "https://localhost:8080/"
    },
    "id": "TenxQ1zC_pqi",
    "outputId": "d4ba84b5-a300-41d7-d9e6-5503b5bc4adb"
   },
   "execution_count": 17,
   "outputs": [
    {
     "output_type": "stream",
     "name": "stdout",
     "text": [
      "0.3632792433120598\n",
      "0.20904742925468314\n"
     ]
    }
   ]
  },
  {
   "cell_type": "markdown",
   "source": [
    "Getting back to `rand` distributed vectors, let's calculate a vector similar to multiple other vectors using bundling, implemented by [majority](https://en.wikipedia.org/wiki/Majority_function)."
   ],
   "metadata": {
    "id": "VWUmSydTATdC"
   }
  },
  {
   "cell_type": "code",
   "source": [
    "mabc = BHV.majority([a, b, c])\n",
    "\n",
    "print(a.bit_error_rate(mabc), b.bit_error_rate(mabc), c.bit_error_rate(mabc))"
   ],
   "metadata": {
    "colab": {
     "base_uri": "https://localhost:8080/"
    },
    "id": "UN9H4wv8AS_5",
    "outputId": "ecb54e61-729f-49ad-f852-31a53bec732c"
   },
   "execution_count": 18,
   "outputs": [
    {
     "output_type": "stream",
     "name": "stdout",
     "text": [
      "0.2452392578125 0.246826171875 0.2490234375\n"
     ]
    }
   ]
  },
  {
   "cell_type": "markdown",
   "source": [
    "Recall a, b, and c are pairwise unrelated, they have a `bit_error_rate` of ~`0.5`."
   ],
   "metadata": {
    "id": "DK46CjSqBJqd"
   }
  },
  {
   "cell_type": "code",
   "source": [
    "for x, y in zip([a, b, c], [b, c, a]):\n",
    "    assert abs(.5 - x.bit_error_rate(y)) < .02"
   ],
   "metadata": {
    "id": "EPW3RHWzBW2E"
   },
   "execution_count": 19,
   "outputs": []
  },
  {
   "cell_type": "markdown",
   "source": [
    "If you're like me, you totally despise the `.02` right there. Luckily there's a more principled way to talk about this distance in terms of probability: how likely is it that our two vectors are this far apart coming from the same `Bernoulli(0.5)` distribution?\n",
    "The function for checking this is `unrelated` which uses `std_apart` to get the \"distance\" in standard deviations and check if it's at least 6σ apart.\n",
    "Of course you can set the threshold to your desired level certainty, 6σ would let 3.4 in a million vectors through."
   ],
   "metadata": {
    "id": "k2uMxjxEBzuB"
   }
  },
  {
   "cell_type": "code",
   "source": [
    "for x, y in zip([a, b, c], [b, c, a]):\n",
    "    assert x.unrelated(y)\n",
    "    assert x.std_apart(y, invert=True) <= 6\n",
    "\n",
    "LEVEL = 7  # only let one in a trillion through\n",
    "\n",
    "for x, y in zip([a, b, c], [b, c, a]):\n",
    "    assert x.unrelated(y, stdvs=LEVEL)\n",
    "    assert x.std_apart(y, invert=True) <= LEVEL"
   ],
   "metadata": {
    "id": "uyVAxBJ6BvOw"
   },
   "execution_count": 23,
   "outputs": []
  },
  {
   "cell_type": "markdown",
   "source": [
    "Another way to get vectors that are a mixture of existing ones is using `select` (also known as mux and if-then-else). The first argument decides whether to take bits from the second or third argument."
   ],
   "metadata": {
    "id": "WGYtWwVNGCWZ"
   }
  },
  {
   "cell_type": "code",
   "source": [
    "cond = BHV.rand()\n",
    "\n",
    "a_if_cond_else_b = cond.select(a, b)\n",
    "\n",
    "print(a_if_cond_else_b.active_fraction())\n",
    "print(a_if_cond_else_b.bit_error_rate(a))\n",
    "print(a_if_cond_else_b.bit_error_rate(b))\n",
    "print(a_if_cond_else_b.bit_error_rate(cond))"
   ],
   "metadata": {
    "colab": {
     "base_uri": "https://localhost:8080/"
    },
    "id": "jyIC0ZOaF-em",
    "outputId": "bbc8cd7f-1eb4-413c-9531-b33aabfe816f"
   },
   "execution_count": 49,
   "outputs": [
    {
     "output_type": "stream",
     "name": "stdout",
     "text": [
      "0.5030517578125\n",
      "0.2476806640625\n",
      "0.244384765625\n",
      "0.4970703125\n"
     ]
    }
   ]
  },
  {
   "cell_type": "markdown",
   "source": [
    "TODO."
   ],
   "metadata": {
    "id": "98-Hab71jiG-"
   }
  },
  {
   "cell_type": "code",
   "source": [
    "d = BHV.rand()\n",
    "\n",
    "a_if_cond_else_c = cond.select(a, c)\n",
    "\n",
    "\n",
    "print(a_if_cond_else_b.bit_error_rate(a_if_cond_else_c))\n",
    "print(a_if_cond_else_b.bias_rel(a_if_cond_else_c, cond))\n",
    "print(a_if_cond_else_b.bias_rel(a_if_cond_else_c, ~cond))\n",
    "\n",
    "# print(weight_rel(a_if_cond_else_b, a_if_cond_else_c, cond))\n",
    "# print(weight_rel(a, b, cond))\n",
    "# print(a_if_cond_else_b.bit_error_rate(a_if_cond_else_c))"
   ],
   "metadata": {
    "colab": {
     "base_uri": "https://localhost:8080/"
    },
    "id": "tEIhxFR0IYVg",
    "outputId": "58db0d59-c845-4164-ca21-9e7df8ed256d"
   },
   "execution_count": 150,
   "outputs": [
    {
     "output_type": "stream",
     "name": "stdout",
     "text": [
      "0.249267578125\n",
      "0.5\n",
      "0.5123031496062992\n"
     ]
    }
   ]
  }
 ]
}
